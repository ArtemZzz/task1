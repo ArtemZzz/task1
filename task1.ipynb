{
  "nbformat": 4,
  "nbformat_minor": 0,
  "metadata": {
    "colab": {
      "name": "task1.ipynb",
      "provenance": []
    },
    "kernelspec": {
      "name": "python3",
      "display_name": "Python 3"
    }
  },
  "cells": [
    {
      "cell_type": "markdown",
      "metadata": {
        "id": "-s4QueDsxq6n"
      },
      "source": [
        "Силинский Артем Сергеевич, КИ19-20Б"
      ]
    },
    {
      "cell_type": "code",
      "metadata": {
        "colab": {
          "base_uri": "https://localhost:8080/"
        },
        "id": "kHwhRB3yx97Y",
        "outputId": "fb75ac2f-3dc9-420e-bf81-5157e8378078"
      },
      "source": [
        "print (\"Привет, Мир!\")"
      ],
      "execution_count": 1,
      "outputs": [
        {
          "output_type": "stream",
          "text": [
            "Привет, Мир!\n"
          ],
          "name": "stdout"
        }
      ]
    }
  ]
}